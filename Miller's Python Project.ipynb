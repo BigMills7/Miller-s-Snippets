{
 "cells": [
  {
   "cell_type": "code",
   "execution_count": 43,
   "metadata": {},
   "outputs": [
    {
     "name": "stdout",
     "output_type": "stream",
     "text": [
      "10\n",
      "Hello\n",
      "Miller <class 'str'>\n"
     ]
    }
   ],
   "source": [
    "# Variables\n",
    "x = 10\n",
    "print(x)\n",
    "message = \"Hello\"\n",
    "print(message)\n",
    "my_name = \"Miller\"\n",
    "print(my_name, type(my_name))"
   ]
  },
  {
   "cell_type": "code",
   "execution_count": 44,
   "metadata": {},
   "outputs": [
    {
     "name": "stdout",
     "output_type": "stream",
     "text": [
      "69 <class 'int'>\n",
      "False <class 'bool'>\n",
      "3.97 <class 'float'>\n",
      "Hello, World! <class 'str'>\n",
      "69.0 <class 'float'>\n",
      "69 <class 'str'>\n",
      "True <class 'bool'>\n",
      "0 <class 'int'>\n",
      "False <class 'str'>\n",
      "3 <class 'int'>\n",
      "3.97 <class 'str'>\n",
      "True <class 'bool'>\n"
     ]
    }
   ],
   "source": [
    "# Data Types\n",
    "# Integer\n",
    "my_integer = 69\n",
    "\n",
    "# Boolean\n",
    "my_boolean = False\n",
    "\n",
    "# Float\n",
    "my_float = 3.97\n",
    "\n",
    "# String\n",
    "my_string = \"Hello, World!\"\n",
    "\n",
    "# Printing the variables and their types\n",
    "print(my_integer, type(my_integer))\n",
    "print(my_boolean, type(my_boolean))\n",
    "print(my_float, type(my_float))\n",
    "print(my_string, type(my_string))\n",
    "\n",
    "# Converting the variables\n",
    "# Integer\n",
    "my_integer_as_float = float(my_integer)\n",
    "my_integer_as_string = str(my_integer)\n",
    "my_integer_as_boolean = bool(my_integer)\n",
    "\n",
    "# Boolean\n",
    "my_boolean_as_int = int(my_boolean)\n",
    "my_boolean_as_string = str(my_boolean)\n",
    "\n",
    "# Float\n",
    "my_float_as_integer = int(my_float)\n",
    "my_float_as_string = str(my_float)\n",
    "\n",
    "# String\n",
    "#my_string_as_integer = int(my_string) will raise a ValueError since the string cannot be directly converted to an integer\n",
    "my_string_as_boolean = bool(my_string)  # This will always return True since the string is not empty\n",
    "\n",
    "# Printing the variables and their types\n",
    "print(my_integer_as_float, type(my_integer_as_float))\n",
    "print(my_integer_as_string, type(my_integer_as_string))\n",
    "print(my_integer_as_boolean, type(my_integer_as_boolean))\n",
    "\n",
    "print(my_boolean_as_int, type(my_boolean_as_int))\n",
    "print(my_boolean_as_string, type(my_boolean_as_string))\n",
    "\n",
    "print(my_float_as_integer, type(my_float_as_integer))\n",
    "print(my_float_as_string, type(my_float_as_string))\n",
    "\n",
    "print(my_string_as_boolean, type(my_string_as_boolean))"
   ]
  },
  {
   "cell_type": "code",
   "execution_count": 64,
   "metadata": {},
   "outputs": [
    {
     "name": "stdout",
     "output_type": "stream",
     "text": [
      "3 is in the set\n",
      "Does the set contains 3?: True\n",
      "Size of the set: 9\n",
      "{2, 3, 4, 6, 7, 8, 9, 10, 11}\n"
     ]
    }
   ],
   "source": [
    "# Sets\n",
    "number_set = set(range(1, 11))\n",
    "number_set.add(11)\n",
    "number_set.remove(5)\n",
    "if 3 in number_set:\n",
    "    print(\"3 is in the set\")\n",
    "else:\n",
    "    print(\"3 is not in the set\")\n",
    "    #OR\n",
    "print(\"Does the set contains 3?:\", 3 in number_set)\n",
    "number_set.remove(1)\n",
    "print(\"Size of the set:\", len(number_set))\n",
    "print(number_set)"
   ]
  },
  {
   "cell_type": "code",
   "execution_count": 63,
   "metadata": {},
   "outputs": [
    {
     "name": "stdout",
     "output_type": "stream",
     "text": [
      "3 is in the list\n",
      "Does the list contains 3?: True\n",
      "Size of the list: 9\n",
      "[11, 10, 9, 8, 7, 6, 4, 3, 2]\n"
     ]
    }
   ],
   "source": [
    "# Lists\n",
    "num_list = [1, 2, 3, 4, 5, 6, 7, 8, 9, 10]\n",
    "num_list.insert(10,11)\n",
    "num_list.remove(5)\n",
    "if 3 in num_list:\n",
    "    print(\"3 is in the list\")\n",
    "else:\n",
    "    print(\"3 is not in the list\")\n",
    "    #OR\n",
    "print(\"Does the list contains 3?:\", 3 in num_list)\n",
    "num_list.pop(0)\n",
    "print(\"Size of the list:\", len(num_list))\n",
    "num_list.reverse()\n",
    "print(num_list)"
   ]
  }
 ],
 "metadata": {
  "kernelspec": {
   "display_name": "base",
   "language": "python",
   "name": "python3"
  },
  "language_info": {
   "codemirror_mode": {
    "name": "ipython",
    "version": 3
   },
   "file_extension": ".py",
   "mimetype": "text/x-python",
   "name": "python",
   "nbconvert_exporter": "python",
   "pygments_lexer": "ipython3",
   "version": "3.11.5"
  }
 },
 "nbformat": 4,
 "nbformat_minor": 2
}
